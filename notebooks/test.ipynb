{
 "cells": [
  {
   "cell_type": "code",
   "execution_count": 2,
   "id": "initial_id",
   "metadata": {
    "jupyter": {
     "is_executing": true
    }
   },
   "outputs": [],
   "source": []
  },
  {
   "cell_type": "code",
   "execution_count": 1,
   "id": "ace06ecd99bc7381",
   "metadata": {},
   "outputs": [],
   "source": [
    "import pickle"
   ]
  },
  {
   "cell_type": "code",
   "execution_count": 6,
   "id": "0465c14a-257e-46f1-baa3-c45f2133e6f3",
   "metadata": {},
   "outputs": [],
   "source": [
    "with open(\"bucket_cred.pkl\", 'wb') as f:\n",
    "    pickle.dump(\n",
    "        dict(\n",
    "            KEY_ID = 'YCAJE62pSQELM4yc4RA3aXwM6',\n",
    "            SECRET = 'YCPuHgoejE1VSMtfRcujfh1-ukaEYys-ObFOkztP'\n",
    "        ),\n",
    "        f\n",
    "    )"
   ]
  },
  {
   "cell_type": "code",
   "execution_count": 7,
   "id": "477bc4cb-8f7b-41ee-bf66-a926ae541946",
   "metadata": {},
   "outputs": [],
   "source": [
    "with open(\"bucket_cred.pkl\", 'rb') as f:\n",
    "    d = pickle.load(f)\n",
    "    KEY_ID = d[\"KEY_ID\"]\n",
    "    SECRET = d[\"SECRET\"]"
   ]
  },
  {
   "cell_type": "code",
   "execution_count": 8,
   "id": "4a3b58ea-27cb-4c14-8669-1249b5212cc7",
   "metadata": {},
   "outputs": [
    {
     "data": {
      "text/plain": [
       "'YCAJE62pSQELM4yc4RA3aXwM6'"
      ]
     },
     "execution_count": 8,
     "metadata": {},
     "output_type": "execute_result"
    }
   ],
   "source": [
    "KEY_ID"
   ]
  },
  {
   "cell_type": "code",
   "execution_count": null,
   "id": "1a008df7-ffc2-4621-a2a2-426a5691a722",
   "metadata": {},
   "outputs": [],
   "source": []
  }
 ],
 "metadata": {
  "kernelspec": {
   "display_name": "Python 3 (ipykernel)",
   "language": "python",
   "name": "python3"
  },
  "language_info": {
   "codemirror_mode": {
    "name": "ipython",
    "version": 3
   },
   "file_extension": ".py",
   "mimetype": "text/x-python",
   "name": "python",
   "nbconvert_exporter": "python",
   "pygments_lexer": "ipython3",
   "version": "3.8.10"
  }
 },
 "nbformat": 4,
 "nbformat_minor": 5
}
