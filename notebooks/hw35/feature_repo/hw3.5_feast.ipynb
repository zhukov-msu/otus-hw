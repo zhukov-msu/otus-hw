{
 "cells": [
  {
   "cell_type": "markdown",
   "id": "11694190-5c84-452b-9d37-68db6eca5812",
   "metadata": {},
   "source": [
    "# Feast test on sales data"
   ]
  },
  {
   "cell_type": "markdown",
   "id": "b5b9caaa-4e5d-4027-b632-bf8eb42adb39",
   "metadata": {},
   "source": [
    "* Взял рабочие данные по продажам автозапчастей, создал паркетник ```/data/sales.parquet```\n",
    "* В ```example_repo.py``` создал 2 фиче-вью и 1 он-деманд-фиче-вью\n",
    "* В разделе [Get features from store](#Get-features-from-store) пример использования"
   ]
  },
  {
   "cell_type": "markdown",
   "id": "fde60d69-ad93-439c-9e33-77b05099e6e2",
   "metadata": {},
   "source": [
    "## imports"
   ]
  },
  {
   "cell_type": "code",
   "execution_count": 1,
   "id": "f753604f-fff7-4a97-89a0-f9829801fbd0",
   "metadata": {},
   "outputs": [],
   "source": [
    "from feast import (\n",
    "    FeatureView,\n",
    "    Field,\n",
    "    FeatureStore\n",
    ")\n",
    "from feast.on_demand_feature_view import on_demand_feature_view\n",
    "from feast.types import Float32, Float64, String\n",
    "from datetime import timedelta"
   ]
  },
  {
   "cell_type": "code",
   "execution_count": 2,
   "id": "2d5afdd8-42af-465a-a597-241101634093",
   "metadata": {},
   "outputs": [],
   "source": [
    "import pandas as pd\n",
    "import numpy as np\n",
    "import os"
   ]
  },
  {
   "cell_type": "markdown",
   "id": "2eb3cbcc-3a9e-4da2-9b2f-c0479c60f187",
   "metadata": {},
   "source": [
    "## get data"
   ]
  },
  {
   "cell_type": "code",
   "execution_count": 4,
   "id": "64ca4334-88bd-4e33-b461-7269288f8c37",
   "metadata": {},
   "outputs": [],
   "source": [
    "import psycopg2\n",
    "host = ## \n",
    "port = \"6432\"\n",
    "dbname = \"dwh\"\n",
    "username = \"zhukov.a\"\n",
    "pwd = os.getenv(\"PWD_CLOUD_AUTOSTELS\")"
   ]
  },
  {
   "cell_type": "code",
   "execution_count": 5,
   "id": "83279026-bef2-4dc3-87ef-32dd3d928a9d",
   "metadata": {},
   "outputs": [],
   "source": [
    "conn = psycopg2.connect(\n",
    "    \"host='{}' port={} dbname='{}' user={} password={}\".format(host, port, dbname, username, pwd)\n",
    ")"
   ]
  },
  {
   "cell_type": "code",
   "execution_count": 6,
   "id": "f9dc4df3-6788-4940-b276-0f7572e3921b",
   "metadata": {},
   "outputs": [],
   "source": [
    "import pandas.io.sql as sqlio"
   ]
  },
  {
   "cell_type": "code",
   "execution_count": 10,
   "id": "9293ae84-0f50-42bc-a999-3788a125c644",
   "metadata": {},
   "outputs": [
    {
     "name": "stderr",
     "output_type": "stream",
     "text": [
      "/var/folders/wb/s5b9f5wx3kj_c83kz1ynmx300000gn/T/ipykernel_52923/3680025023.py:1: UserWarning: pandas only supports SQLAlchemy connectable (engine/connection) or database string URI or sqlite3 DBAPI2 connection. Other DBAPI2 objects are not tested. Please consider using SQLAlchemy.\n",
      "  df =  sqlio.read_sql(\"select * FROM dwh_cdm.sale_order_calc_det sale limit 10000\", conn)\n"
     ]
    }
   ],
   "source": [
    "df =  sqlio.read_sql(\"select * FROM dwh_cdm.sale_order_calc_det sale limit 10000\", conn)"
   ]
  },
  {
   "cell_type": "code",
   "execution_count": 14,
   "id": "5cac2721-dc76-4b29-8cc7-e44ae4e2ca05",
   "metadata": {},
   "outputs": [],
   "source": [
    "df.to_parquet(\"./data/sales.parquet\")"
   ]
  },
  {
   "cell_type": "code",
   "execution_count": 3,
   "id": "14cb6e0f-9327-4ea3-8084-0039b1193bb5",
   "metadata": {},
   "outputs": [],
   "source": [
    "df = pd.read_parquet(\"./data/sales.parquet\")"
   ]
  },
  {
   "cell_type": "code",
   "execution_count": 20,
   "id": "964c0e66-d74d-493b-b7f3-5adbb139834e",
   "metadata": {},
   "outputs": [
    {
     "data": {
      "text/html": [
       "<div>\n",
       "<style scoped>\n",
       "    .dataframe tbody tr th:only-of-type {\n",
       "        vertical-align: middle;\n",
       "    }\n",
       "\n",
       "    .dataframe tbody tr th {\n",
       "        vertical-align: top;\n",
       "    }\n",
       "\n",
       "    .dataframe thead th {\n",
       "        text-align: right;\n",
       "    }\n",
       "</style>\n",
       "<table border=\"1\" class=\"dataframe\">\n",
       "  <thead>\n",
       "    <tr style=\"text-align: right;\">\n",
       "      <th></th>\n",
       "      <th>sale_order_item_id</th>\n",
       "      <th>customer_id</th>\n",
       "      <th>supplier_top_id</th>\n",
       "      <th>order_item_work_dt</th>\n",
       "      <th>order_item_create_dt</th>\n",
       "      <th>order_price_with_tax_amt</th>\n",
       "      <th>order_price_no_tax_amt</th>\n",
       "      <th>order_qty_cnt</th>\n",
       "      <th>order_cost_with_tax_amt</th>\n",
       "      <th>order_cost_no_tax_amt</th>\n",
       "      <th>...</th>\n",
       "      <th>supp_cost_with_tax_amt</th>\n",
       "      <th>supp_cost_no_tax_amt</th>\n",
       "      <th>supp_cost_no_tax_amt_dds</th>\n",
       "      <th>valid_from_dttm</th>\n",
       "      <th>valid_to_dttm</th>\n",
       "      <th>md5_hash</th>\n",
       "      <th>insert_process_id</th>\n",
       "      <th>insert_dttm</th>\n",
       "      <th>update_process_id</th>\n",
       "      <th>update_dttm</th>\n",
       "    </tr>\n",
       "  </thead>\n",
       "  <tbody>\n",
       "    <tr>\n",
       "      <th>0</th>\n",
       "      <td>91322375</td>\n",
       "      <td>262481</td>\n",
       "      <td>-1</td>\n",
       "      <td>2013-04-16 13:54:07</td>\n",
       "      <td>NaT</td>\n",
       "      <td>206.69</td>\n",
       "      <td>175.161017</td>\n",
       "      <td>1</td>\n",
       "      <td>206.69</td>\n",
       "      <td>175.161017</td>\n",
       "      <td>...</td>\n",
       "      <td>177.14</td>\n",
       "      <td>150.118644</td>\n",
       "      <td>NaN</td>\n",
       "      <td>1900-01-01</td>\n",
       "      <td>9999-12-31</td>\n",
       "      <td>1b49f3faff0b24ee3ad6b805ff2b9f7b</td>\n",
       "      <td>3447</td>\n",
       "      <td>2024-05-17 01:35:32.339873</td>\n",
       "      <td>3447</td>\n",
       "      <td>2024-05-17 01:35:32.339873</td>\n",
       "    </tr>\n",
       "    <tr>\n",
       "      <th>1</th>\n",
       "      <td>95352883</td>\n",
       "      <td>270590</td>\n",
       "      <td>-1</td>\n",
       "      <td>2013-11-06 21:06:09</td>\n",
       "      <td>NaT</td>\n",
       "      <td>710.72</td>\n",
       "      <td>602.305085</td>\n",
       "      <td>1</td>\n",
       "      <td>710.72</td>\n",
       "      <td>602.305085</td>\n",
       "      <td>...</td>\n",
       "      <td>618.92</td>\n",
       "      <td>524.508475</td>\n",
       "      <td>NaN</td>\n",
       "      <td>1900-01-01</td>\n",
       "      <td>9999-12-31</td>\n",
       "      <td>b5d65d83e79727454afb3fdf4fab393d</td>\n",
       "      <td>3447</td>\n",
       "      <td>2024-05-17 01:35:32.339873</td>\n",
       "      <td>3447</td>\n",
       "      <td>2024-05-17 01:35:32.339873</td>\n",
       "    </tr>\n",
       "    <tr>\n",
       "      <th>2</th>\n",
       "      <td>91286651</td>\n",
       "      <td>266948</td>\n",
       "      <td>-1</td>\n",
       "      <td>2010-12-20 15:03:10</td>\n",
       "      <td>NaT</td>\n",
       "      <td>205.99</td>\n",
       "      <td>174.567797</td>\n",
       "      <td>1</td>\n",
       "      <td>205.99</td>\n",
       "      <td>174.567797</td>\n",
       "      <td>...</td>\n",
       "      <td>175.74</td>\n",
       "      <td>148.932203</td>\n",
       "      <td>NaN</td>\n",
       "      <td>1900-01-01</td>\n",
       "      <td>9999-12-31</td>\n",
       "      <td>79358c12fa6ba30ceeecb2402d40021e</td>\n",
       "      <td>3447</td>\n",
       "      <td>2024-05-17 01:35:32.339873</td>\n",
       "      <td>3447</td>\n",
       "      <td>2024-05-17 01:35:32.339873</td>\n",
       "    </tr>\n",
       "    <tr>\n",
       "      <th>3</th>\n",
       "      <td>93466781</td>\n",
       "      <td>278626</td>\n",
       "      <td>-1</td>\n",
       "      <td>2018-02-13 09:16:41</td>\n",
       "      <td>2018-02-13 09:15:41</td>\n",
       "      <td>749.00</td>\n",
       "      <td>634.745763</td>\n",
       "      <td>1</td>\n",
       "      <td>749.00</td>\n",
       "      <td>634.745763</td>\n",
       "      <td>...</td>\n",
       "      <td>664.39</td>\n",
       "      <td>563.042373</td>\n",
       "      <td>NaN</td>\n",
       "      <td>1900-01-01</td>\n",
       "      <td>9999-12-31</td>\n",
       "      <td>4b9a0f9ad2598a0c23750a171a3cecfc</td>\n",
       "      <td>3447</td>\n",
       "      <td>2024-05-17 01:35:32.339873</td>\n",
       "      <td>3447</td>\n",
       "      <td>2024-05-17 01:35:32.339873</td>\n",
       "    </tr>\n",
       "    <tr>\n",
       "      <th>4</th>\n",
       "      <td>66970497</td>\n",
       "      <td>279624</td>\n",
       "      <td>1671</td>\n",
       "      <td>2021-05-15 13:35:07</td>\n",
       "      <td>2021-05-15 13:34:32</td>\n",
       "      <td>4160.00</td>\n",
       "      <td>3466.666667</td>\n",
       "      <td>1</td>\n",
       "      <td>4160.00</td>\n",
       "      <td>3466.666667</td>\n",
       "      <td>...</td>\n",
       "      <td>4037.37</td>\n",
       "      <td>3364.475000</td>\n",
       "      <td>3364.47</td>\n",
       "      <td>1900-01-01</td>\n",
       "      <td>9999-12-31</td>\n",
       "      <td>825b8cf6829230b6ed5c7eb3ce6c82b3</td>\n",
       "      <td>3447</td>\n",
       "      <td>2024-05-17 01:35:32.339873</td>\n",
       "      <td>3447</td>\n",
       "      <td>2024-05-17 01:35:32.339873</td>\n",
       "    </tr>\n",
       "  </tbody>\n",
       "</table>\n",
       "<p>5 rows × 25 columns</p>\n",
       "</div>"
      ],
      "text/plain": [
       "   sale_order_item_id  customer_id  supplier_top_id  order_item_work_dt  \\\n",
       "0            91322375       262481               -1 2013-04-16 13:54:07   \n",
       "1            95352883       270590               -1 2013-11-06 21:06:09   \n",
       "2            91286651       266948               -1 2010-12-20 15:03:10   \n",
       "3            93466781       278626               -1 2018-02-13 09:16:41   \n",
       "4            66970497       279624             1671 2021-05-15 13:35:07   \n",
       "\n",
       "  order_item_create_dt  order_price_with_tax_amt  order_price_no_tax_amt  \\\n",
       "0                  NaT                    206.69              175.161017   \n",
       "1                  NaT                    710.72              602.305085   \n",
       "2                  NaT                    205.99              174.567797   \n",
       "3  2018-02-13 09:15:41                    749.00              634.745763   \n",
       "4  2021-05-15 13:34:32                   4160.00             3466.666667   \n",
       "\n",
       "   order_qty_cnt  order_cost_with_tax_amt  order_cost_no_tax_amt  ...  \\\n",
       "0              1                   206.69             175.161017  ...   \n",
       "1              1                   710.72             602.305085  ...   \n",
       "2              1                   205.99             174.567797  ...   \n",
       "3              1                   749.00             634.745763  ...   \n",
       "4              1                  4160.00            3466.666667  ...   \n",
       "\n",
       "   supp_cost_with_tax_amt  supp_cost_no_tax_amt  supp_cost_no_tax_amt_dds  \\\n",
       "0                  177.14            150.118644                       NaN   \n",
       "1                  618.92            524.508475                       NaN   \n",
       "2                  175.74            148.932203                       NaN   \n",
       "3                  664.39            563.042373                       NaN   \n",
       "4                 4037.37           3364.475000                   3364.47   \n",
       "\n",
       "   valid_from_dttm  valid_to_dttm                          md5_hash  \\\n",
       "0       1900-01-01     9999-12-31  1b49f3faff0b24ee3ad6b805ff2b9f7b   \n",
       "1       1900-01-01     9999-12-31  b5d65d83e79727454afb3fdf4fab393d   \n",
       "2       1900-01-01     9999-12-31  79358c12fa6ba30ceeecb2402d40021e   \n",
       "3       1900-01-01     9999-12-31  4b9a0f9ad2598a0c23750a171a3cecfc   \n",
       "4       1900-01-01     9999-12-31  825b8cf6829230b6ed5c7eb3ce6c82b3   \n",
       "\n",
       "   insert_process_id                insert_dttm update_process_id  \\\n",
       "0               3447 2024-05-17 01:35:32.339873              3447   \n",
       "1               3447 2024-05-17 01:35:32.339873              3447   \n",
       "2               3447 2024-05-17 01:35:32.339873              3447   \n",
       "3               3447 2024-05-17 01:35:32.339873              3447   \n",
       "4               3447 2024-05-17 01:35:32.339873              3447   \n",
       "\n",
       "                 update_dttm  \n",
       "0 2024-05-17 01:35:32.339873  \n",
       "1 2024-05-17 01:35:32.339873  \n",
       "2 2024-05-17 01:35:32.339873  \n",
       "3 2024-05-17 01:35:32.339873  \n",
       "4 2024-05-17 01:35:32.339873  \n",
       "\n",
       "[5 rows x 25 columns]"
      ]
     },
     "execution_count": 20,
     "metadata": {},
     "output_type": "execute_result"
    }
   ],
   "source": [
    "df.head()"
   ]
  },
  {
   "cell_type": "markdown",
   "id": "9e8c73d7-dd3e-4bdf-8e4c-bd652b5b8a5d",
   "metadata": {},
   "source": [
    "## Get features from store"
   ]
  },
  {
   "cell_type": "code",
   "execution_count": 13,
   "id": "65b60406-c79a-4c92-9fa8-cfe21956ce01",
   "metadata": {},
   "outputs": [],
   "source": [
    "store = FeatureStore(repo_path=\".\")"
   ]
  },
  {
   "cell_type": "code",
   "execution_count": 31,
   "id": "853a437a-82d3-4f51-950e-3b88a8e676e7",
   "metadata": {},
   "outputs": [],
   "source": [
    "entity_df = pd.DataFrame.from_dict(\n",
    "    {\n",
    "        \"customer_id\": [262481],\n",
    "        \"event_timestamp\": [\n",
    "            datetime(2013, 4, 16, 13, 54, 7)\n",
    "        ],\n",
    "        \"tax_value\": 0.2,\n",
    "    }\n",
    ")"
   ]
  },
  {
   "cell_type": "code",
   "execution_count": 32,
   "id": "e9b02019-3df4-4ad4-80dc-f09b4de54871",
   "metadata": {},
   "outputs": [
    {
     "name": "stderr",
     "output_type": "stream",
     "text": [
      "WARNING:root:_list_feature_views will make breaking changes. Please use _list_batch_feature_views instead. _list_feature_views will behave like _list_all_feature_views in the future.\n"
     ]
    }
   ],
   "source": [
    "training_df = store.get_historical_features(\n",
    "        entity_df=entity_df,\n",
    "        features=[\n",
    "            \"sales_daily_stats:order_qty_cnt\",\n",
    "            \"sales_daily_stats:order_cost_with_tax_amt\",\n",
    "            \"no_tax_daily:order_cost_without_tax_amt\",\n",
    "        ],\n",
    "    ).to_df()"
   ]
  },
  {
   "cell_type": "code",
   "execution_count": 33,
   "id": "d7a1b630-2b9f-4832-a364-bee89640fafa",
   "metadata": {},
   "outputs": [
    {
     "data": {
      "text/html": [
       "<div>\n",
       "<style scoped>\n",
       "    .dataframe tbody tr th:only-of-type {\n",
       "        vertical-align: middle;\n",
       "    }\n",
       "\n",
       "    .dataframe tbody tr th {\n",
       "        vertical-align: top;\n",
       "    }\n",
       "\n",
       "    .dataframe thead th {\n",
       "        text-align: right;\n",
       "    }\n",
       "</style>\n",
       "<table border=\"1\" class=\"dataframe\">\n",
       "  <thead>\n",
       "    <tr style=\"text-align: right;\">\n",
       "      <th></th>\n",
       "      <th>customer_id</th>\n",
       "      <th>event_timestamp</th>\n",
       "      <th>tax_value</th>\n",
       "      <th>order_qty_cnt</th>\n",
       "      <th>order_cost_with_tax_amt</th>\n",
       "      <th>order_cost_without_tax_amt</th>\n",
       "    </tr>\n",
       "  </thead>\n",
       "  <tbody>\n",
       "    <tr>\n",
       "      <th>0</th>\n",
       "      <td>262481</td>\n",
       "      <td>2013-04-16 13:54:07+00:00</td>\n",
       "      <td>0.2</td>\n",
       "      <td>1</td>\n",
       "      <td>206.69</td>\n",
       "      <td>165.352</td>\n",
       "    </tr>\n",
       "  </tbody>\n",
       "</table>\n",
       "</div>"
      ],
      "text/plain": [
       "   customer_id           event_timestamp  tax_value  order_qty_cnt  \\\n",
       "0       262481 2013-04-16 13:54:07+00:00        0.2              1   \n",
       "\n",
       "   order_cost_with_tax_amt  order_cost_without_tax_amt  \n",
       "0                   206.69                     165.352  "
      ]
     },
     "execution_count": 33,
     "metadata": {},
     "output_type": "execute_result"
    }
   ],
   "source": [
    "training_df"
   ]
  },
  {
   "cell_type": "code",
   "execution_count": 34,
   "id": "bd2f7f6c-28c4-4699-9e20-cad8bfa08a24",
   "metadata": {},
   "outputs": [
    {
     "data": {
      "text/html": [
       "<div>\n",
       "<style scoped>\n",
       "    .dataframe tbody tr th:only-of-type {\n",
       "        vertical-align: middle;\n",
       "    }\n",
       "\n",
       "    .dataframe tbody tr th {\n",
       "        vertical-align: top;\n",
       "    }\n",
       "\n",
       "    .dataframe thead th {\n",
       "        text-align: right;\n",
       "    }\n",
       "</style>\n",
       "<table border=\"1\" class=\"dataframe\">\n",
       "  <thead>\n",
       "    <tr style=\"text-align: right;\">\n",
       "      <th></th>\n",
       "      <th>sale_order_item_id</th>\n",
       "      <th>customer_id</th>\n",
       "      <th>supplier_top_id</th>\n",
       "      <th>order_item_work_dt</th>\n",
       "      <th>order_item_create_dt</th>\n",
       "      <th>order_price_with_tax_amt</th>\n",
       "      <th>order_price_no_tax_amt</th>\n",
       "      <th>order_qty_cnt</th>\n",
       "      <th>order_cost_with_tax_amt</th>\n",
       "      <th>order_cost_no_tax_amt</th>\n",
       "      <th>...</th>\n",
       "      <th>supp_cost_with_tax_amt</th>\n",
       "      <th>supp_cost_no_tax_amt</th>\n",
       "      <th>supp_cost_no_tax_amt_dds</th>\n",
       "      <th>valid_from_dttm</th>\n",
       "      <th>valid_to_dttm</th>\n",
       "      <th>md5_hash</th>\n",
       "      <th>insert_process_id</th>\n",
       "      <th>insert_dttm</th>\n",
       "      <th>update_process_id</th>\n",
       "      <th>update_dttm</th>\n",
       "    </tr>\n",
       "  </thead>\n",
       "  <tbody>\n",
       "    <tr>\n",
       "      <th>0</th>\n",
       "      <td>91322375</td>\n",
       "      <td>262481</td>\n",
       "      <td>-1</td>\n",
       "      <td>2013-04-16 13:54:07</td>\n",
       "      <td>NaT</td>\n",
       "      <td>206.69</td>\n",
       "      <td>175.161017</td>\n",
       "      <td>1</td>\n",
       "      <td>206.69</td>\n",
       "      <td>175.161017</td>\n",
       "      <td>...</td>\n",
       "      <td>177.14</td>\n",
       "      <td>150.118644</td>\n",
       "      <td>NaN</td>\n",
       "      <td>1900-01-01</td>\n",
       "      <td>9999-12-31</td>\n",
       "      <td>1b49f3faff0b24ee3ad6b805ff2b9f7b</td>\n",
       "      <td>3447</td>\n",
       "      <td>2024-05-17 01:35:32.339873</td>\n",
       "      <td>3447</td>\n",
       "      <td>2024-05-17 01:35:32.339873</td>\n",
       "    </tr>\n",
       "  </tbody>\n",
       "</table>\n",
       "<p>1 rows × 25 columns</p>\n",
       "</div>"
      ],
      "text/plain": [
       "   sale_order_item_id  customer_id  supplier_top_id  order_item_work_dt  \\\n",
       "0            91322375       262481               -1 2013-04-16 13:54:07   \n",
       "\n",
       "  order_item_create_dt  order_price_with_tax_amt  order_price_no_tax_amt  \\\n",
       "0                  NaT                    206.69              175.161017   \n",
       "\n",
       "   order_qty_cnt  order_cost_with_tax_amt  order_cost_no_tax_amt  ...  \\\n",
       "0              1                   206.69             175.161017  ...   \n",
       "\n",
       "   supp_cost_with_tax_amt  supp_cost_no_tax_amt  supp_cost_no_tax_amt_dds  \\\n",
       "0                  177.14            150.118644                       NaN   \n",
       "\n",
       "   valid_from_dttm  valid_to_dttm                          md5_hash  \\\n",
       "0       1900-01-01     9999-12-31  1b49f3faff0b24ee3ad6b805ff2b9f7b   \n",
       "\n",
       "   insert_process_id                insert_dttm update_process_id  \\\n",
       "0               3447 2024-05-17 01:35:32.339873              3447   \n",
       "\n",
       "                 update_dttm  \n",
       "0 2024-05-17 01:35:32.339873  \n",
       "\n",
       "[1 rows x 25 columns]"
      ]
     },
     "execution_count": 34,
     "metadata": {},
     "output_type": "execute_result"
    }
   ],
   "source": [
    "df[df.customer_id.isin([262481])].head(1)"
   ]
  }
 ],
 "metadata": {
  "kernelspec": {
   "display_name": "Python 3 (ipykernel)",
   "language": "python",
   "name": "python3"
  },
  "language_info": {
   "codemirror_mode": {
    "name": "ipython",
    "version": 3
   },
   "file_extension": ".py",
   "mimetype": "text/x-python",
   "name": "python",
   "nbconvert_exporter": "python",
   "pygments_lexer": "ipython3",
   "version": "3.10.14"
  }
 },
 "nbformat": 4,
 "nbformat_minor": 5
}
